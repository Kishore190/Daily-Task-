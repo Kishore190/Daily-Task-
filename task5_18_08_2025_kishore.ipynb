{
 "cells": [
  {
   "cell_type": "code",
   "execution_count": 3,
   "id": "f05ec4bd",
   "metadata": {},
   "outputs": [
    {
     "name": "stdout",
     "output_type": "stream",
     "text": [
      "class rectangle\n",
      "class cirlce\n"
     ]
    }
   ],
   "source": [
    "class shape:\n",
    "    def rec(self):\n",
    "        print(\"class shape\")\n",
    "class rectangle(shape):\n",
    "    def rec(self):\n",
    "        print(\"class rectangle\")\n",
    "class circle(shape):\n",
    "    def rec(self):\n",
    "        print(\"class cirlce\")\n",
    "\n",
    "a=rectangle()\n",
    "a.rec()\n",
    "b=circle()\n",
    "b.rec()"
   ]
  }
 ],
 "metadata": {
  "kernelspec": {
   "display_name": "Python 3",
   "language": "python",
   "name": "python3"
  },
  "language_info": {
   "codemirror_mode": {
    "name": "ipython",
    "version": 3
   },
   "file_extension": ".py",
   "mimetype": "text/x-python",
   "name": "python",
   "nbconvert_exporter": "python",
   "pygments_lexer": "ipython3",
   "version": "3.13.3"
  }
 },
 "nbformat": 4,
 "nbformat_minor": 5
}
