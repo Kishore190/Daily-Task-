{
 "cells": [
  {
   "cell_type": "code",
   "execution_count": null,
   "id": "f6a076c3",
   "metadata": {},
   "outputs": [],
   "source": [
    "class Employee:\n",
    "    def __init__(self):\n",
    "        self.__salary=0\n",
    "    @property\n",
    "    def salary(self):\n",
    "        return self.__salary\n",
    "    @salary.setter\n",
    "    def salary(self,salary):\n",
    "        if salary<=0:\n",
    "            print(\"value less\")\n",
    "        else:\n",
    "            self.__salary=salary\n",
    "    @salary.deleter\n",
    "    def salary(self):\n",
    "        del self.__salary\n",
    "\n",
    "x=Employee()\n",
    "\n",
    "\n",
    "# x.salary=65675\n",
    "\n",
    "# del x.salary\n",
    "\n",
    "print(x.salary)"
   ]
  }
 ],
 "metadata": {
  "language_info": {
   "name": "python"
  }
 },
 "nbformat": 4,
 "nbformat_minor": 5
}
