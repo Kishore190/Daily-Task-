{
 "cells": [
  {
   "cell_type": "code",
   "execution_count": null,
   "id": "e447b98a",
   "metadata": {},
   "outputs": [],
   "source": [
    "with open (\"file.txt\",\"w\") as f:\n",
    "    f.write(\"Hi! this is kishore, \")\n",
    "    f.write(\"kishore is a good boy\")\n",
    "with open (\"file.txt\",\"r\") as f:\n",
    "    a=\"\"\n",
    "    for i in f:\n",
    "        a+=i\n",
    "    c=a.split(\" \")\n",
    "    b={}\n",
    "    for i in c:\n",
    "        if i in b:\n",
    "            b[i]+=1\n",
    "        else:\n",
    "            b[i]=1\n",
    "    print(b)"
   ]
  }
 ],
 "metadata": {
  "language_info": {
   "name": "python"
  }
 },
 "nbformat": 4,
 "nbformat_minor": 5
}
