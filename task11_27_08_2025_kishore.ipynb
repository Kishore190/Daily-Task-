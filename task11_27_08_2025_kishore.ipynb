{
 "cells": [
  {
   "cell_type": "code",
   "execution_count": null,
   "id": "bb14445c",
   "metadata": {},
   "outputs": [
    {
     "name": "stdout",
     "output_type": "stream",
     "text": [
      "{'mean': 22.894736842105264, 'median': 25, 'mode': [25], 'variance': 100.83102493074792, 'standard_deviation': 10.041465278229417, 'range': 40}\n"
     ]
    }
   ],
   "source": [
    "def calculater(grouped_data):\n",
    "\n",
    "    total_freq = 0\n",
    "    sum_fx = 0\n",
    "    for midpoint, freq in grouped_data:\n",
    "        total_freq += freq\n",
    "        sum_fx += midpoint * freq\n",
    "\n",
    "    # Mean\n",
    "    mean = sum_fx / total_freq\n",
    "\n",
    "    # Median\n",
    "    all_points = []\n",
    "    for midpoint, freq in grouped_data:\n",
    "        for i in range(freq):\n",
    "            all_points.append(midpoint)\n",
    "    n = 0\n",
    "    for i in all_points:\n",
    "        n += 1\n",
    "    for i in range(n - 1):\n",
    "        for j in range(n - i - 1):\n",
    "            if all_points[j] > all_points[j+1]:\n",
    "                temp = all_points[j]\n",
    "                all_points[j] = all_points[j+1]\n",
    "                all_points[j+1] = temp\n",
    "\n",
    "    median = 0\n",
    "    if n % 2 == 1:\n",
    "        median = all_points[n // 2]\n",
    "    else:\n",
    "        median = (all_points[n // 2 - 1] + all_points[n // 2]) / 2\n",
    "\n",
    "    # Mode\n",
    "    max_freq = 0\n",
    "    mode_values = []\n",
    "    frequency_map = {}\n",
    "    for midpoint, freq in grouped_data:\n",
    "        frequency_map[midpoint] = freq\n",
    "        if freq > max_freq:\n",
    "            max_freq = freq\n",
    "\n",
    "    for midpoint, freq in grouped_data:\n",
    "        if freq == max_freq:\n",
    "            mode_values.append(midpoint)\n",
    "\n",
    "    # Variance \n",
    "    sum_squared_diff = 0\n",
    "    for midpoint, freq in grouped_data:\n",
    "        diff = midpoint - mean\n",
    "        squared_diff = diff * diff\n",
    "        sum_squared_diff += squared_diff * freq\n",
    "\n",
    "    variance = sum_squared_diff / total_freq \n",
    "\n",
    "\n",
    "    # Range\n",
    "    min_val = all_points[0]\n",
    "    max_val = all_points[n - 1]\n",
    "    data_range = max_val - min_val\n",
    "\n",
    "    return {\n",
    "        \"mean\": mean,\n",
    "        \"median\": median,\n",
    "        \"mode\": mode_values,\n",
    "        \"variance\": variance,\n",
    "        \"range\": data_range\n",
    "    }\n",
    "\n",
    "data = [(5, 2), (15, 5), (25, 8), (35, 3), (45, 1)]\n",
    "stat = calculater(data)\n",
    "print(stat)"
   ]
  }
 ],
 "metadata": {
  "kernelspec": {
   "display_name": "Python 3",
   "language": "python",
   "name": "python3"
  },
  "language_info": {
   "codemirror_mode": {
    "name": "ipython",
    "version": 3
   },
   "file_extension": ".py",
   "mimetype": "text/x-python",
   "name": "python",
   "nbconvert_exporter": "python",
   "pygments_lexer": "ipython3",
   "version": "3.13.3"
  }
 },
 "nbformat": 4,
 "nbformat_minor": 5
}
