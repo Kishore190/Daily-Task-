{
 "cells": [
  {
   "cell_type": "code",
   "execution_count": 4,
   "id": "024105ab-b010-419e-a954-50d93c5c6f3f",
   "metadata": {},
   "outputs": [
    {
     "name": "stdout",
     "output_type": "stream",
     "text": [
      "kishore\n",
      "KISHORE\n",
      "erohsik\n"
     ]
    }
   ],
   "source": [
    "def alphabet(s):\n",
    "    upper = \"ABCDEFGHIJKLMNOPQRSTUVWXYZ\"\n",
    "    lower = \"abcdefghijklmnopqrstuvwxyz\"\n",
    "    result,ans,result2 = \"\",\"\",\"\"\n",
    "    for i in s:\n",
    "        if i in upper:\n",
    "            result += lower[upper.index(i)]\n",
    "        else:\n",
    "            result += lower[lower.index(i)]\n",
    "    print(result)\n",
    "    for i in s:\n",
    "        if i in upper:\n",
    "            result2 += upper[upper.index(i)]\n",
    "        else:\n",
    "            result2 += upper[lower.index(i)]\n",
    "    print(result2)\n",
    "    for i in range(len(result)):\n",
    "        ans+=result[len(result)-i-1]\n",
    "    return ans\n",
    "\n",
    "    \n",
    "x = alphabet('KISHORE')\n",
    "print(x)"
   ]
  }
 ],
 "metadata": {
  "kernelspec": {
   "display_name": "Python 3 (ipykernel)",
   "language": "python",
   "name": "python3"
  },
  "language_info": {
   "codemirror_mode": {
    "name": "ipython",
    "version": 3
   },
   "file_extension": ".py",
   "mimetype": "text/x-python",
   "name": "python",
   "nbconvert_exporter": "python",
   "pygments_lexer": "ipython3",
   "version": "3.13.3"
  }
 },
 "nbformat": 4,
 "nbformat_minor": 5
}
