{
 "cells": [
  {
   "cell_type": "code",
   "execution_count": 3,
   "id": "65af955f",
   "metadata": {},
   "outputs": [
    {
     "name": "stdout",
     "output_type": "stream",
     "text": [
      "28.2744\n"
     ]
    }
   ],
   "source": [
    "def area_of_circle(r):\n",
    "    x=3.1416*(r**2)\n",
    "    return x\n",
    "r=int(input())\n",
    "print(area_of_circle(3))\n"
   ]
  }
 ],
 "metadata": {
  "kernelspec": {
   "display_name": "Python 3",
   "language": "python",
   "name": "python3"
  },
  "language_info": {
   "codemirror_mode": {
    "name": "ipython",
    "version": 3
   },
   "file_extension": ".py",
   "mimetype": "text/x-python",
   "name": "python",
   "nbconvert_exporter": "python",
   "pygments_lexer": "ipython3",
   "version": "3.13.3"
  }
 },
 "nbformat": 4,
 "nbformat_minor": 5
}
