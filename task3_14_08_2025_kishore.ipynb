{
 "cells": [
  {
   "cell_type": "code",
   "execution_count": null,
   "id": "fa788c33",
   "metadata": {},
   "outputs": [],
   "source": [
    "a,b,c=int(input(\"Enter number\")),int(input(\"Enter number\")),input(\"add or sub or div or mul\")\n",
    "match c:\n",
    "    case \"add\":\n",
    "        print(f\"addition {a+b}\")\n",
    "    case \"sub\":\n",
    "        print(f\"subtraction {a-b}\")\n",
    "    case \"mul\":\n",
    "        print(f\"multiply {a*b}\")\n",
    "    case \"div\":\n",
    "        if b==0:\n",
    "            print(\"b is invaild input\")\n",
    "        else:\n",
    "            print(f\"division {a/b}\")"
   ]
  }
 ],
 "metadata": {
  "language_info": {
   "name": "python"
  }
 },
 "nbformat": 4,
 "nbformat_minor": 5
}
