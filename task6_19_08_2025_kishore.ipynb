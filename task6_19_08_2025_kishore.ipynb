{
 "cells": [
  {
   "cell_type": "code",
   "execution_count": 3,
   "id": "c95cb836",
   "metadata": {},
   "outputs": [
    {
     "name": "stdout",
     "output_type": "stream",
     "text": [
      "sailing on water\n",
      "driving on road\n"
     ]
    }
   ],
   "source": [
    "class transport():\n",
    "    def move(self):\n",
    "        print(\"moving\")\n",
    "class car(transport):\n",
    "    def move(self):\n",
    "        print(\"driving on road\")\n",
    "class boat(transport):\n",
    "    def move(self):\n",
    "        print(\"sailing on water\")\n",
    "\n",
    "a=boat()\n",
    "a.move()\n",
    "b=car()\n",
    "b.move()"
   ]
  }
 ],
 "metadata": {
  "kernelspec": {
   "display_name": "Python 3",
   "language": "python",
   "name": "python3"
  },
  "language_info": {
   "codemirror_mode": {
    "name": "ipython",
    "version": 3
   },
   "file_extension": ".py",
   "mimetype": "text/x-python",
   "name": "python",
   "nbconvert_exporter": "python",
   "pygments_lexer": "ipython3",
   "version": "3.13.3"
  }
 },
 "nbformat": 4,
 "nbformat_minor": 5
}
