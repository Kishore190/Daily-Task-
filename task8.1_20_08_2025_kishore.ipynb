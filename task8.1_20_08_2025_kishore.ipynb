{
 "cells": [
  {
   "cell_type": "code",
   "execution_count": 1,
   "id": "118e67b4",
   "metadata": {},
   "outputs": [
    {
     "name": "stdout",
     "output_type": "stream",
     "text": [
      "Old Title\n",
      "Updating title: New Title\n",
      "New Title\n"
     ]
    }
   ],
   "source": [
    "def log_update(func):\n",
    "    def wrapper(self, value):\n",
    "        print(f\"Updating title: {value}\")\n",
    "        return func(self, value)\n",
    "    return wrapper\n",
    "\n",
    "\n",
    "class Book:\n",
    "    def __init__(self, title):\n",
    "        self._title = title\n",
    "\n",
    "    @property\n",
    "    def title(self):\n",
    "        return self._title\n",
    "\n",
    "    @title.setter\n",
    "    @log_update   \n",
    "    def title(self, value):\n",
    "        self._title = value\n",
    "\n",
    "\n",
    "b = Book(\"Old Title\")\n",
    "print( b.title)\n",
    "\n",
    "b.title = \"New Title\"   \n",
    "print( b.title)\n"
   ]
  }
 ],
 "metadata": {
  "kernelspec": {
   "display_name": "Python 3",
   "language": "python",
   "name": "python3"
  },
  "language_info": {
   "codemirror_mode": {
    "name": "ipython",
    "version": 3
   },
   "file_extension": ".py",
   "mimetype": "text/x-python",
   "name": "python",
   "nbconvert_exporter": "python",
   "pygments_lexer": "ipython3",
   "version": "3.13.3"
  }
 },
 "nbformat": 4,
 "nbformat_minor": 5
}
