{
 "cells": [
  {
   "cell_type": "code",
   "execution_count": 1,
   "id": "c3e85eac",
   "metadata": {},
   "outputs": [
    {
     "name": "stdout",
     "output_type": "stream",
     "text": [
      "5\n",
      "7\n",
      "5.6\n"
     ]
    }
   ],
   "source": [
    "from multipledispatch import dispatch\n",
    "\n",
    "@dispatch(int, int)\n",
    "def product(first, second):\n",
    "    result = first + second\n",
    "    print(result)\n",
    "\n",
    "@dispatch(int, int, int)\n",
    "def product(first, second, third):\n",
    "    result = first + second + third\n",
    "    print(result)\n",
    "\n",
    "@dispatch(float, float)\n",
    "def product(first, second):\n",
    "    result = first + second\n",
    "    print(result)\n",
    "\n",
    "product(2, 3)\n",
    "product(2, 3, 2)\n",
    "product(2.2, 3.4)"
   ]
  }
 ],
 "metadata": {
  "kernelspec": {
   "display_name": "Python 3",
   "language": "python",
   "name": "python3"
  },
  "language_info": {
   "codemirror_mode": {
    "name": "ipython",
    "version": 3
   },
   "file_extension": ".py",
   "mimetype": "text/x-python",
   "name": "python",
   "nbconvert_exporter": "python",
   "pygments_lexer": "ipython3",
   "version": "3.13.3"
  }
 },
 "nbformat": 4,
 "nbformat_minor": 5
}
