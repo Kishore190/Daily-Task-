{
 "cells": [
  {
   "cell_type": "code",
   "execution_count": 10,
   "id": "deba350a",
   "metadata": {},
   "outputs": [
    {
     "name": "stdout",
     "output_type": "stream",
     "text": [
      "1 base= 20.0 final= 22.0\n",
      "2 base= 20.0 final= 22.0\n",
      "100 USD in EUR = 92.0\n"
     ]
    }
   ],
   "source": [
    "# Class: Order with:\n",
    "# @property for total\n",
    "# @classmethod to load orders from orders.csv\n",
    "# @staticmethod to convert currency\n",
    "# Decorator @apply_tax(rate) to increase total\n",
    "# Decorator @log_order(file) to log to file\n",
    "# Chain decorators (@apply_tax + @log_order)\n",
    "# File reading/writing involved\n",
    "import csv\n",
    "\n",
    "def apply_tax(rate):\n",
    "    def deco(fn):\n",
    "        def wrapper(self): \n",
    "            return fn(self) * (1 + rate)\n",
    "        return wrapper\n",
    "    return deco\n",
    "\n",
    "def log_order(file):\n",
    "    def deco(fn):\n",
    "        def wrapper(self):\n",
    "            val = fn(self)\n",
    "            with open(file, \"a\") as f:\n",
    "                f.write(f\"{self.order_id},{val:.2f}\\n\")\n",
    "            return val\n",
    "        return wrapper\n",
    "    return deco\n",
    "\n",
    "class Order:\n",
    "    def __init__(self, order_id, items):\n",
    "        self.order_id, self.items = order_id, items\n",
    "\n",
    "    @property\n",
    "    def total(self):\n",
    "        return sum(p*q for p, q in self.items)\n",
    "\n",
    "    @classmethod\n",
    "    def from_csv(cls, file=\"orders.csv\"):\n",
    "        orders = {}\n",
    "        with open(file) as f:\n",
    "            for oid, p, q in csv.reader(f):\n",
    "                orders.setdefault(oid, []).append((float(p), int(q)))\n",
    "        return [cls(oid, items) for oid, items in orders.items()]\n",
    "\n",
    "    @staticmethod\n",
    "    def convert_currency(amount, rate):\n",
    "        return amount * rate\n",
    "\n",
    "    @log_order(\"orders.log\")\n",
    "    @apply_tax(0.1)  \n",
    "    def final_total(self):\n",
    "        return self.total\n",
    "\n",
    "if __name__ == \"__main__\":\n",
    "    with open(\"orders.csv\", \"w\", newline=\"\") as f:\n",
    "        csv.writer(f).writerows([[1,10,2],[2,20,1]])\n",
    "\n",
    "    for o in Order.from_csv():\n",
    "        print(o.order_id, \"base=\", o.total, \"final=\", o.final_total())\n",
    "    print(\"100 USD in EUR =\", Order.convert_currency(100, 0.92))\n"
   ]
  }
 ],
 "metadata": {
  "kernelspec": {
   "display_name": "Python 3",
   "language": "python",
   "name": "python3"
  },
  "language_info": {
   "codemirror_mode": {
    "name": "ipython",
    "version": 3
   },
   "file_extension": ".py",
   "mimetype": "text/x-python",
   "name": "python",
   "nbconvert_exporter": "python",
   "pygments_lexer": "ipython3",
   "version": "3.13.3"
  }
 },
 "nbformat": 4,
 "nbformat_minor": 5
}
